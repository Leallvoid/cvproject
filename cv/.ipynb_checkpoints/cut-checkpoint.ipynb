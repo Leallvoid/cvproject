{
 "cells": [
  {
   "cell_type": "code",
   "execution_count": 4,
   "id": "27d625be",
   "metadata": {
    "ExecuteTime": {
     "end_time": "2022-06-03T14:19:36.225922Z",
     "start_time": "2022-06-03T14:19:36.167079Z"
    }
   },
   "outputs": [
    {
     "ename": "TypeError",
     "evalue": "str() takes at most 3 arguments (4 given)",
     "output_type": "error",
     "traceback": [
      "\u001b[1;31m---------------------------------------------------------------------------\u001b[0m",
      "\u001b[1;31mTypeError\u001b[0m                                 Traceback (most recent call last)",
      "\u001b[1;32m~\\AppData\\Local\\Temp/ipykernel_14156/3600118909.py\u001b[0m in \u001b[0;36m<module>\u001b[1;34m\u001b[0m\n\u001b[0;32m      8\u001b[0m \u001b[0mh\u001b[0m \u001b[1;33m=\u001b[0m \u001b[0mimg\u001b[0m\u001b[1;33m.\u001b[0m\u001b[0mshape\u001b[0m\u001b[1;33m[\u001b[0m\u001b[1;36m1\u001b[0m\u001b[1;33m]\u001b[0m      \u001b[1;31m#图片的高\u001b[0m\u001b[1;33m\u001b[0m\u001b[1;33m\u001b[0m\u001b[0m\n\u001b[0;32m      9\u001b[0m \u001b[0mchannel\u001b[0m \u001b[1;33m=\u001b[0m \u001b[0mimg\u001b[0m\u001b[1;33m.\u001b[0m\u001b[0mshape\u001b[0m\u001b[1;33m[\u001b[0m\u001b[1;36m2\u001b[0m\u001b[1;33m]\u001b[0m\u001b[1;33m\u001b[0m\u001b[1;33m\u001b[0m\u001b[0m\n\u001b[1;32m---> 10\u001b[1;33m \u001b[1;32mclass\u001b[0m \u001b[0mcutImg\u001b[0m\u001b[1;33m(\u001b[0m\u001b[0mfile_path\u001b[0m\u001b[1;33m,\u001b[0m \u001b[0mway\u001b[0m\u001b[1;33m=\u001b[0m\u001b[1;34m'auto'\u001b[0m\u001b[1;33m)\u001b[0m\u001b[1;33m:\u001b[0m\u001b[1;33m\u001b[0m\u001b[1;33m\u001b[0m\u001b[0m\n\u001b[0m\u001b[0;32m     11\u001b[0m \u001b[1;33m\u001b[0m\u001b[0m\n\u001b[0;32m     12\u001b[0m     \u001b[0mWays\u001b[0m \u001b[1;33m=\u001b[0m \u001b[1;33m[\u001b[0m\u001b[1;34m'selfcut'\u001b[0m\u001b[1;33m,\u001b[0m \u001b[1;34m'auto'\u001b[0m\u001b[1;33m]\u001b[0m\u001b[1;33m\u001b[0m\u001b[1;33m\u001b[0m\u001b[0m\n",
      "\u001b[1;31mTypeError\u001b[0m: str() takes at most 3 arguments (4 given)"
     ]
    }
   ],
   "source": [
    "import cv2\n",
    " \n",
    "file_path = './img/17raw.bmp'\n",
    " \n",
    "img = cv2.imread(file_path)\n",
    "imgSize = img.shape  #大小/尺寸\n",
    "w = img.shape[0]       #图片的宽\n",
    "h = img.shape[1]      #图片的高\n",
    "channel = img.shape[2]\n",
    "class cutImg(file_path, way='auto'):\n",
    "    \n",
    "    Ways = ['selfcut', 'auto']\n",
    "    \n",
    "    def __init__(self, file_path):\n",
    "        file_path = file_path\n",
    "        img = cv2.imread(file_path)\n",
    "        self.originalImgSize = img.shape\n",
    "        self.originalImgWidth = img.shape[0]\n",
    "        self.originalImgHeight = img.shape[1]\n",
    "        self.originalImgChannel = img.shape[2]\n"
   ]
  },
  {
   "cell_type": "code",
   "execution_count": null,
   "id": "b7eccf1e",
   "metadata": {
    "ExecuteTime": {
     "end_time": "2022-05-30T07:17:05.214370Z",
     "start_time": "2022-05-30T07:17:05.202386Z"
    }
   },
   "outputs": [],
   "source": []
  }
 ],
 "metadata": {
  "kernelspec": {
   "display_name": "Python 3 (ipykernel)",
   "language": "python",
   "name": "python3"
  },
  "language_info": {
   "codemirror_mode": {
    "name": "ipython",
    "version": 3
   },
   "file_extension": ".py",
   "mimetype": "text/x-python",
   "name": "python",
   "nbconvert_exporter": "python",
   "pygments_lexer": "ipython3",
   "version": "3.9.5"
  }
 },
 "nbformat": 4,
 "nbformat_minor": 5
}
